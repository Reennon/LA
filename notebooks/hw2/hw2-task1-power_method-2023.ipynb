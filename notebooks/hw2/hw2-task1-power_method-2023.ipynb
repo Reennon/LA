{
 "cells": [
  {
   "cell_type": "code",
   "execution_count": 1,
   "id": "37d14b3b",
   "metadata": {
    "ExecuteTime": {
     "end_time": "2023-12-18T19:42:12.028303Z",
     "start_time": "2023-12-18T19:42:11.886219Z"
    }
   },
   "outputs": [],
   "source": [
    "import numpy as np"
   ]
  },
  {
   "cell_type": "markdown",
   "id": "b472fd5e",
   "metadata": {},
   "source": [
    "# Problem 1: Power iteration method for eigenvalue calculation (3 pts)\n",
    "\n",
    "### <div align=\"right\"> &copy; Volodymyr Kuchynskyi & Rostyslav Hryniv, 2023 </div>\n",
    "\n",
    "## Completed by:\n",
    "*   Nazar Andrushko\n",
    "*   Roman Kovalchuk"
   ]
  },
  {
   "cell_type": "markdown",
   "id": "-r6qtbVQ_Qln",
   "metadata": {
    "id": "-r6qtbVQ_Qln"
   },
   "source": [
    "---\n",
    "\n",
    "#### In this part of the homework, you will implement the **power method**, a simple iterative algorithm for numerical calculation of the dominant eigenvalue and the corresponding eigenvector of a square matrix $A$, test its limitations, and verify necessary conditions on $A$. You will also use the **inverse power method**, a modification of the regular **power method**, that finds the remaining non-dominant eigenvalues and eigenvectors of $A$. For simplicity, we will be working with real matrices only  \n",
    "\n",
    "---"
   ]
  },
  {
   "cell_type": "markdown",
   "id": "8jvLfwBRXRpd",
   "metadata": {
    "id": "8jvLfwBRXRpd"
   },
   "source": [
    "##1. Power iteration method (1 pt)##"
   ]
  },
  {
   "cell_type": "markdown",
   "id": "7bfce1df",
   "metadata": {
    "id": "7bfce1df"
   },
   "source": [
    "###1.1 Explanation of the method\n",
    "#### Assume that a $k\\times k$ matrix $A$ is diagonalizable and that $\\lambda_1, \\lambda_2, \\dots, \\lambda_k$ are its eigenvalues listed according to multiplicities. We say that $\\lambda_1$ is a <font color=\"red\">dominant eigenvalue</font> of $A$ if the eigenvalues can be ordered so that $|\\lambda_1|> |\\lambda_2| \\ge \\dots \\ge |\\lambda_k|$. In particular, the dominant eigenvalue must be <font color = \"blue\"> simple</font>; we denote by $\\mathbf{v}_1$ a corresponding normalized eigenvector. Analysis of the large-$n$ asymptotics of $A^n\\mathbf{x}_0$ for a generic vector $\\mathbf{x}_0\\in \\mathbb{R}^k$ suggests a simple <font color=\"red\">power iteration</font> method to find the eigenspace $\\mbox{ls}\\{\\mathbf{v}_1\\}$ and the dominant eigenvalue $\\lambda_1$.  \n",
    "\n",
    "#### Denote by $\\mathbf{v}_j$ an eigenvector for the eigenvalue $\\lambda_j$, $j=2,\\dots, k$. Assume also that the starting vector $\\mathbf{x}_0$ has a nonzero component in the direction of $\\mathbf{v}_1$, i.e., that in the representation $$\n",
    "\t\\mathbf{x}_0 = c_1 \\mathbf{v}_1 + c_2 \\mathbf{v}_2 + \\cdots + c_k\\mathbf{v}_k\n",
    "$$ we have $c_1 \\ne 0$. Then $$\n",
    "\tA^n \\mathbf{x}_0 = \\lambda_1^n \\Bigl[c_1\\mathbf{v}_1 + c_2 \\Bigr(\\frac{\\lambda_2}{\\lambda_1}\\Bigr)^n \\mathbf{v}_2 + \\cdots + c_k \\Bigr(\\frac{\\lambda_k}{\\lambda_1}\\Bigr)^n\\mathbf{v}_k\\Bigr] =  \\lambda_1^n \\bigl[c_1 \\mathbf{v}_1 + o(1)\\bigr]\n",
    "$$ as $n \\to \\infty$. The latter relation still does not allow to identify $\\lambda_1$ and $\\mathbf{v}_1$ because the term $\\lambda_1^n$ blows up when $|\\lambda_1|>1$, decays to zero when $|\\lambda_1|<1$, and rotates over the unit circle $|z|=1$ when $|\\lambda_1|  = 1$ is different from $1$. To compensate that behavior, one iterates over the normalized vectors $\\mathbf{x}_n$ defined via $$\n",
    "\t\\mathbf{x}_{n} := \\frac{A\\mathbf{x}_{n-1}}{\\|A\\mathbf{x}_{n-1}\\|} = \\frac{A^n\\mathbf{x}_0}{\\|A^n\\mathbf{x}_0\\|} = \\frac{c_1}{|c_1|} \\Bigl(\\frac{\\lambda_1}{|\\lambda_1|}\\Bigr)^n\\mathbf{v}_1 + o(1), \\tag{1}\n",
    "$$ whose distance to the eigenspace $\\mbox{ls}\\{\\mathbf{v}_1\\}$ decays exponentially. The eigenvalue $\\lambda_1$ can be approximated by $$\n",
    "\t\\lambda_1 \\approx \\frac{\\mathbf{x}_n^\\top A \\mathbf{x}_n}{\\mathbf{x}_n^\\top \\mathbf{x}_n} = \\mathbf{x}_n^\\top A \\mathbf{x}_n. \\tag{2}\n",
    "$$ Formulae (1) and (2) lay in the basis of the method.\n"
   ]
  },
  {
   "cell_type": "markdown",
   "id": "d0541a86",
   "metadata": {
    "id": "d0541a86"
   },
   "source": [
    "### **1.2 (0.5 pt)**  Implement the power iteration method\n",
    "\n",
    "> **Note:** Although the use of any function from numpy is allowed, in this part of your homework, methods such as ``power_method`` and ``inverse_power_method`` must be implemented explicitly, without relying on functions that could use them implicitly in their implementations, such as ``np.linalg.eig``. However, you can use the latter in the rest of your homework to e.g. verify the correctness of implemented functions\n",
    "\n",
    "> **Hint:** The stopping criterion for the iteration (1), i.e., $\\mathbf{x}_{n} := {A\\mathbf{x}_{n-1}}/{\\|A\\mathbf{x}_{n-1}\\|}$ should be expressed in terms of stabilizing the corresponding eigenvalue $\\lambda_1 \\approx \\mathbf{x}_n^\\top \\mathbf{x}_{n-1}$. The reason is that if $\\lambda_1$ is not positive, then, on each iteration, the vector $\\mathbf{x}_n$ gets multiplied by the number $\\lambda_1/|\\lambda_1|$, which prevents $\\mathbf{x}_n$ from converging (cf. (1))"
   ]
  },
  {
   "cell_type": "code",
   "execution_count": 2,
   "id": "237f6b4e",
   "metadata": {
    "ExecuteTime": {
     "end_time": "2023-12-18T19:42:12.102878Z",
     "start_time": "2023-12-18T19:42:12.067695Z"
    },
    "id": "237f6b4e"
   },
   "outputs": [],
   "source": [
    "def power_method(A, start_vector=None, tol = 1e-5, max_iter=5e+2):\n",
    "    \"\"\"\n",
    "    Return the dominant eigenvalue and its corresponding eigenvector\n",
    "    using power method.\n",
    "\n",
    "    Args:\n",
    "        A - matrix for which to compute the eigenpair\n",
    "        start_vector(optional) - vector used for initialization\n",
    "                                 on the first step of power iteration algorithm.\n",
    "                                 Defaults to None. In such case, the initial vector\n",
    "                                 will be randomized.\n",
    "        tol (optional) - stopping criterion: stop iterations when lambda_1 update\n",
    "                                 gets smaller than tol\n",
    "        max_iter(optional) - maximum number of iterations for the power method.\n",
    "                                 Perform sanity check if the returned values are\n",
    "                                 close to eigenvalue and eigenvector of A\n",
    "    Returns:\n",
    "        (eigval, eigvec) - a pair of the dominant eigenvalue and its eigenvector.\n",
    "    \"\"\"\n",
    "\n",
    "    #YOUR CODE STARTS HERE\n",
    "    if not start_vector:\n",
    "        # Choose it randomly to reduce a chance of having it orthogonal to eigenvector\n",
    "        start_vector = np.random.rand(A.shape[1])\n",
    "\n",
    "    l_approximated = np.inf\n",
    "\n",
    "    for _ in range(int(max_iter)):\n",
    "        b_k1 = np.dot(A, start_vector)\n",
    "        b_k1_norm = np.linalg.norm(b_k1)\n",
    "        b_k = b_k1 / b_k1_norm\n",
    "\n",
    "        # Use Rayleigh quotient to get associated eigenvalue from found eigenvector\n",
    "        l = np.dot(np.dot(A, b_k), b_k) / np.dot(b_k, b_k)\n",
    "\n",
    "        if np.abs(l - l_approximated) < tol:\n",
    "            break\n",
    "\n",
    "        start_vector = b_k\n",
    "        l_approximated = l\n",
    "\n",
    "    return l, b_k\n",
    "\n",
    "    #YOUR CODE ENDS HERE\n"
   ]
  },
  {
   "cell_type": "code",
   "execution_count": 3,
   "id": "dac399e4",
   "metadata": {
    "ExecuteTime": {
     "end_time": "2023-12-18T19:42:12.149539Z",
     "start_time": "2023-12-18T19:42:12.108125Z"
    },
    "id": "dac399e4"
   },
   "outputs": [
    {
     "name": "stdout",
     "output_type": "stream",
     "text": [
      "eigenvalue: -2.00000841104366, eigenvector: [ 0.44721109 -0.89442844]\n"
     ]
    }
   ],
   "source": [
    "A_1 = np.array([[0, 1], [-2, -3]])\n",
    "#You should invoke similar calls in the next tasks by yourself\n",
    "A_1_eival, A_1_eivec = power_method(A_1)\n",
    "print(f\"eigenvalue: {A_1_eival}, eigenvector: {A_1_eivec}\")"
   ]
  },
  {
   "cell_type": "markdown",
   "id": "GqXFSew6QkvS",
   "metadata": {
    "id": "GqXFSew6QkvS"
   },
   "source": [
    "#### Test your implementation of power method:"
   ]
  },
  {
   "cell_type": "code",
   "execution_count": 4,
   "id": "HfGDRaTHBNsS",
   "metadata": {
    "ExecuteTime": {
     "end_time": "2023-12-18T19:42:12.150301Z",
     "start_time": "2023-12-18T19:42:12.131268Z"
    },
    "id": "HfGDRaTHBNsS"
   },
   "outputs": [],
   "source": [
    "def test_power_method(A, eigenvalue, eigenvector):\n",
    "\n",
    "    eigenvals_ref, eigenvecs_ref = np.linalg.eig(A)\n",
    "    eigenvecs_ref = eigenvecs_ref.T\n",
    "\n",
    "    eig_imax = np.argmax(np.abs(eigenvals_ref))\n",
    "    #compare eigenvalues\n",
    "    assert np.allclose(eigenvalue, eigenvals_ref[eig_imax]),\\\n",
    "                       f\"Incorrect eigenvalue found: {eigenvalue} differs from {eigenvals_ref[eig_imax]}\"\n",
    "    #compare eigenvectors w.r.t scalar multiple (normalize)\n",
    "    assert np.allclose(eigenvector / np.linalg.norm(eigenvector),\n",
    "                       eigenvecs_ref[eig_imax]) or np.allclose(-(eigenvector / np.linalg.norm(eigenvector)),\n",
    "                       eigenvecs_ref[eig_imax]),\\\n",
    "                       f\"Incorrect eigenvector found: {eigenvector} is not a constant multiple of {eigenvecs_ref[eig_imax]}\"\n",
    "\n",
    "    print(\"test_power_method passed successfully\")"
   ]
  },
  {
   "cell_type": "code",
   "execution_count": 5,
   "id": "ule9SNB_BQlk",
   "metadata": {
    "ExecuteTime": {
     "end_time": "2023-12-18T19:42:12.150502Z",
     "start_time": "2023-12-18T19:42:12.144565Z"
    },
    "id": "ule9SNB_BQlk"
   },
   "outputs": [
    {
     "name": "stdout",
     "output_type": "stream",
     "text": [
      "test_power_method passed successfully\n",
      "test_power_method passed successfully\n",
      "test_power_method passed successfully\n"
     ]
    }
   ],
   "source": [
    "A_test_3x3 = (100*np.random.rand(3,3))\n",
    "A_test_5x5 = (100*np.random.rand(5,5))\n",
    "A_test_10x10 = (100*np.random.rand(10,10))\n",
    "\n",
    "test_power_method(A_test_3x3, *power_method(A_test_3x3))\n",
    "test_power_method(A_test_5x5, *power_method(A_test_5x5))\n",
    "test_power_method(A_test_10x10, *power_method(A_test_10x10))"
   ]
  },
  {
   "cell_type": "markdown",
   "id": "db32d7a0",
   "metadata": {
    "id": "db32d7a0"
   },
   "source": [
    "---\n",
    "### **1.3. (0.5 pt)** Reasons to fail\n",
    "#### Formulate necessary conditions for power method to work and the reasons why it can fail (the more, the better, but at least two). Then, for each reason, provide an example of your own $3 \\times 3$ matrix $M$ when the method fails and test it by your code.\n",
    ">_Hint_: Recall that for real matrices, the eigenvalues come in complex conjugate pairs. Recall also that not all matrices are diagonalizable; do you see what obstacle that can create?"
   ]
  },
  {
   "cell_type": "markdown",
   "id": "34ac5c9e",
   "metadata": {
    "id": "34ac5c9e"
   },
   "source": [
    "---\n",
    "#### **Your explanations come here**\n",
    "There is a two main reasons why the power method might not work, or produce poor results:\n",
    "1) Dominant eigenvalue is very close to other eigenvalues\n",
    "2) The initial assumption of a vector is orthogonal to the A matrix's true eigenvector\n",
    "given matrix:\n",
    "[[3, 5, 0],\n",
    " [0, -4, 0],\n",
    " [0, -4, -4]]\n",
    "if we choose initial eigenvector guess as [1, 0, 0] (Real eigenvector for eigenvalue = -4 with vector (0,0,1));\n",
    "we can see the method produces smaller eigenvalue (3), whilst the dominating one is -4, with eigenvector for lambda equals to 3\n",
    "3) The matrices eigenvalues has the same spectral radius:\n",
    "For instance if we choose matrix:\n",
    "[[3, 5, 0],\n",
    " [5, -3, 0],\n",
    " [0, -4, 3]]\n",
    "We would see that true eigenvalues are sqrt(34) and -sqrt(34) and 3\n",
    "Whilst power method produces various values pointing to one of three eigenvectors, but overall, result is far from truth\n",
    "3) Low number of iterations or high tolerance rate\n",
    "Depending on number of iterations or tolerance rate set, the method may not produce accurate results, as can be shown from\n",
    "example at wikipedia page where first few iterations may point out to the direction of smallest eigenvector to say.\n",
    "---"
   ]
  },
  {
   "cell_type": "code",
   "execution_count": 23,
   "id": "00e3b894",
   "metadata": {
    "ExecuteTime": {
     "end_time": "2023-12-18T19:42:12.297478Z",
     "start_time": "2023-12-18T19:42:12.152278Z"
    },
    "id": "00e3b894"
   },
   "outputs": [
    {
     "ename": "AssertionError",
     "evalue": "Incorrect eigenvalue found: 3.0 differs from -4.0",
     "output_type": "error",
     "traceback": [
      "\u001B[0;31m---------------------------------------------------------------------------\u001B[0m",
      "\u001B[0;31mAssertionError\u001B[0m                            Traceback (most recent call last)",
      "Cell \u001B[0;32mIn[23], line 6\u001B[0m\n\u001B[1;32m      1\u001B[0m \u001B[38;5;66;03m#YOUR CODE STARTS HERE\u001B[39;00m\n\u001B[1;32m      2\u001B[0m B_bad_initial_guess \u001B[38;5;241m=\u001B[39m np\u001B[38;5;241m.\u001B[39marray(\n\u001B[1;32m      3\u001B[0m [[\u001B[38;5;241m3\u001B[39m, \u001B[38;5;241m5\u001B[39m, \u001B[38;5;241m0\u001B[39m],\n\u001B[1;32m      4\u001B[0m  [\u001B[38;5;241m0\u001B[39m, \u001B[38;5;241m-\u001B[39m\u001B[38;5;241m4\u001B[39m, \u001B[38;5;241m0\u001B[39m],\n\u001B[1;32m      5\u001B[0m  [\u001B[38;5;241m0\u001B[39m, \u001B[38;5;241m-\u001B[39m\u001B[38;5;241m4\u001B[39m, \u001B[38;5;241m-\u001B[39m\u001B[38;5;241m4\u001B[39m]])\n\u001B[0;32m----> 6\u001B[0m display(\u001B[43mtest_power_method\u001B[49m\u001B[43m(\u001B[49m\u001B[43mB_bad_initial_guess\u001B[49m\u001B[43m,\u001B[49m\u001B[43m \u001B[49m\u001B[38;5;241;43m*\u001B[39;49m\u001B[43mpower_method\u001B[49m\u001B[43m(\u001B[49m\u001B[43mB_bad_initial_guess\u001B[49m\u001B[43m,\u001B[49m\u001B[43m \u001B[49m\u001B[43mstart_vector\u001B[49m\u001B[38;5;241;43m=\u001B[39;49m\u001B[43m[\u001B[49m\u001B[38;5;241;43m1\u001B[39;49m\u001B[43m,\u001B[49m\u001B[43m \u001B[49m\u001B[38;5;241;43m0\u001B[39;49m\u001B[43m,\u001B[49m\u001B[43m \u001B[49m\u001B[38;5;241;43m0\u001B[39;49m\u001B[43m]\u001B[49m\u001B[43m)\u001B[49m\u001B[43m)\u001B[49m)\n\u001B[1;32m      7\u001B[0m \u001B[38;5;66;03m#YOUR CODE ENDS HERE\u001B[39;00m\n",
      "Cell \u001B[0;32mIn[4], line 8\u001B[0m, in \u001B[0;36mtest_power_method\u001B[0;34m(A, eigenvalue, eigenvector)\u001B[0m\n\u001B[1;32m      6\u001B[0m eig_imax \u001B[38;5;241m=\u001B[39m np\u001B[38;5;241m.\u001B[39margmax(np\u001B[38;5;241m.\u001B[39mabs(eigenvals_ref))\n\u001B[1;32m      7\u001B[0m \u001B[38;5;66;03m#compare eigenvalues\u001B[39;00m\n\u001B[0;32m----> 8\u001B[0m \u001B[38;5;28;01massert\u001B[39;00m np\u001B[38;5;241m.\u001B[39mallclose(eigenvalue, eigenvals_ref[eig_imax]),\\\n\u001B[1;32m      9\u001B[0m                    \u001B[38;5;124mf\u001B[39m\u001B[38;5;124m\"\u001B[39m\u001B[38;5;124mIncorrect eigenvalue found: \u001B[39m\u001B[38;5;132;01m{\u001B[39;00meigenvalue\u001B[38;5;132;01m}\u001B[39;00m\u001B[38;5;124m differs from \u001B[39m\u001B[38;5;132;01m{\u001B[39;00meigenvals_ref[eig_imax]\u001B[38;5;132;01m}\u001B[39;00m\u001B[38;5;124m\"\u001B[39m\n\u001B[1;32m     10\u001B[0m \u001B[38;5;66;03m#compare eigenvectors w.r.t scalar multiple (normalize)\u001B[39;00m\n\u001B[1;32m     11\u001B[0m \u001B[38;5;28;01massert\u001B[39;00m np\u001B[38;5;241m.\u001B[39mallclose(eigenvector \u001B[38;5;241m/\u001B[39m np\u001B[38;5;241m.\u001B[39mlinalg\u001B[38;5;241m.\u001B[39mnorm(eigenvector),\n\u001B[1;32m     12\u001B[0m                    eigenvecs_ref[eig_imax]) \u001B[38;5;129;01mor\u001B[39;00m np\u001B[38;5;241m.\u001B[39mallclose(\u001B[38;5;241m-\u001B[39m(eigenvector \u001B[38;5;241m/\u001B[39m np\u001B[38;5;241m.\u001B[39mlinalg\u001B[38;5;241m.\u001B[39mnorm(eigenvector)),\n\u001B[1;32m     13\u001B[0m                    eigenvecs_ref[eig_imax]),\\\n\u001B[1;32m     14\u001B[0m                    \u001B[38;5;124mf\u001B[39m\u001B[38;5;124m\"\u001B[39m\u001B[38;5;124mIncorrect eigenvector found: \u001B[39m\u001B[38;5;132;01m{\u001B[39;00meigenvector\u001B[38;5;132;01m}\u001B[39;00m\u001B[38;5;124m is not a constant multiple of \u001B[39m\u001B[38;5;132;01m{\u001B[39;00meigenvecs_ref[eig_imax]\u001B[38;5;132;01m}\u001B[39;00m\u001B[38;5;124m\"\u001B[39m\n",
      "\u001B[0;31mAssertionError\u001B[0m: Incorrect eigenvalue found: 3.0 differs from -4.0"
     ]
    }
   ],
   "source": [
    "#YOUR CODE STARTS HERE\n",
    "B_bad_initial_guess = np.array(\n",
    "[[3, 5, 0],\n",
    " [0, -4, 0],\n",
    " [0, -4, -4]])\n",
    "display(test_power_method(B_bad_initial_guess, *power_method(B_bad_initial_guess, start_vector=[1, 0, 0])))\n",
    "#YOUR CODE ENDS HERE"
   ]
  },
  {
   "cell_type": "code",
   "execution_count": 26,
   "id": "27c44d1b",
   "metadata": {
    "ExecuteTime": {
     "start_time": "2023-12-18T19:42:12.294787Z"
    }
   },
   "outputs": [
    {
     "ename": "AssertionError",
     "evalue": "Incorrect eigenvalue found: 1.4837451643372273 differs from 3.0",
     "output_type": "error",
     "traceback": [
      "\u001B[0;31m---------------------------------------------------------------------------\u001B[0m",
      "\u001B[0;31mAssertionError\u001B[0m                            Traceback (most recent call last)",
      "Cell \u001B[0;32mIn[26], line 5\u001B[0m\n\u001B[1;32m      1\u001B[0m B_spectral_radius \u001B[38;5;241m=\u001B[39m np\u001B[38;5;241m.\u001B[39marray(\n\u001B[1;32m      2\u001B[0m [[\u001B[38;5;241m3\u001B[39m, \u001B[38;5;241m5\u001B[39m, \u001B[38;5;241m0\u001B[39m],\n\u001B[1;32m      3\u001B[0m  [\u001B[38;5;241m0\u001B[39m, \u001B[38;5;241m-\u001B[39m\u001B[38;5;241m3\u001B[39m, \u001B[38;5;241m0\u001B[39m],\n\u001B[1;32m      4\u001B[0m  [\u001B[38;5;241m0\u001B[39m, \u001B[38;5;241m-\u001B[39m\u001B[38;5;241m4\u001B[39m, \u001B[38;5;241m3\u001B[39m]])\n\u001B[0;32m----> 5\u001B[0m display(\u001B[43mtest_power_method\u001B[49m\u001B[43m(\u001B[49m\u001B[43mB_spectral_radius\u001B[49m\u001B[43m,\u001B[49m\u001B[43m \u001B[49m\u001B[38;5;241;43m*\u001B[39;49m\u001B[43mpower_method\u001B[49m\u001B[43m(\u001B[49m\u001B[43mB_spectral_radius\u001B[49m\u001B[43m)\u001B[49m\u001B[43m)\u001B[49m)\n",
      "Cell \u001B[0;32mIn[4], line 8\u001B[0m, in \u001B[0;36mtest_power_method\u001B[0;34m(A, eigenvalue, eigenvector)\u001B[0m\n\u001B[1;32m      6\u001B[0m eig_imax \u001B[38;5;241m=\u001B[39m np\u001B[38;5;241m.\u001B[39margmax(np\u001B[38;5;241m.\u001B[39mabs(eigenvals_ref))\n\u001B[1;32m      7\u001B[0m \u001B[38;5;66;03m#compare eigenvalues\u001B[39;00m\n\u001B[0;32m----> 8\u001B[0m \u001B[38;5;28;01massert\u001B[39;00m np\u001B[38;5;241m.\u001B[39mallclose(eigenvalue, eigenvals_ref[eig_imax]),\\\n\u001B[1;32m      9\u001B[0m                    \u001B[38;5;124mf\u001B[39m\u001B[38;5;124m\"\u001B[39m\u001B[38;5;124mIncorrect eigenvalue found: \u001B[39m\u001B[38;5;132;01m{\u001B[39;00meigenvalue\u001B[38;5;132;01m}\u001B[39;00m\u001B[38;5;124m differs from \u001B[39m\u001B[38;5;132;01m{\u001B[39;00meigenvals_ref[eig_imax]\u001B[38;5;132;01m}\u001B[39;00m\u001B[38;5;124m\"\u001B[39m\n\u001B[1;32m     10\u001B[0m \u001B[38;5;66;03m#compare eigenvectors w.r.t scalar multiple (normalize)\u001B[39;00m\n\u001B[1;32m     11\u001B[0m \u001B[38;5;28;01massert\u001B[39;00m np\u001B[38;5;241m.\u001B[39mallclose(eigenvector \u001B[38;5;241m/\u001B[39m np\u001B[38;5;241m.\u001B[39mlinalg\u001B[38;5;241m.\u001B[39mnorm(eigenvector),\n\u001B[1;32m     12\u001B[0m                    eigenvecs_ref[eig_imax]) \u001B[38;5;129;01mor\u001B[39;00m np\u001B[38;5;241m.\u001B[39mallclose(\u001B[38;5;241m-\u001B[39m(eigenvector \u001B[38;5;241m/\u001B[39m np\u001B[38;5;241m.\u001B[39mlinalg\u001B[38;5;241m.\u001B[39mnorm(eigenvector)),\n\u001B[1;32m     13\u001B[0m                    eigenvecs_ref[eig_imax]),\\\n\u001B[1;32m     14\u001B[0m                    \u001B[38;5;124mf\u001B[39m\u001B[38;5;124m\"\u001B[39m\u001B[38;5;124mIncorrect eigenvector found: \u001B[39m\u001B[38;5;132;01m{\u001B[39;00meigenvector\u001B[38;5;132;01m}\u001B[39;00m\u001B[38;5;124m is not a constant multiple of \u001B[39m\u001B[38;5;132;01m{\u001B[39;00meigenvecs_ref[eig_imax]\u001B[38;5;132;01m}\u001B[39;00m\u001B[38;5;124m\"\u001B[39m\n",
      "\u001B[0;31mAssertionError\u001B[0m: Incorrect eigenvalue found: 1.4837451643372273 differs from 3.0"
     ]
    }
   ],
   "source": [
    "B_spectral_radius = np.array(\n",
    "[[3, 5, 0],\n",
    " [0, -3, 0],\n",
    " [0, -4, 3]])\n",
    "display(test_power_method(B_spectral_radius, *power_method(B_spectral_radius)))"
   ]
  },
  {
   "cell_type": "markdown",
   "id": "F_XXp2fNYUbo",
   "metadata": {
    "id": "F_XXp2fNYUbo"
   },
   "source": [
    "## 2. Symmetric matrices (1 pt)##"
   ]
  },
  {
   "cell_type": "markdown",
   "id": "8f9d6151",
   "metadata": {
    "id": "8f9d6151"
   },
   "source": [
    "###2.1. Recap on symmetric matrices\n",
    "#### Consider a special case of finding eigenvalues and eigenvectors for a **symmetric** matrix $A$, i.e. a matrix satisfying $A^\\top = A$. Recall that such a matrix  \n",
    "- is **orthogonally diagonalizable**, i.e., there is an **orthonormal basis** $\\mathbf{v}_1, \\dots,\\mathbf{v}_k$ of $\\mathbb{R}^k$ consisting of **eigenvectors** of $A$;\n",
    "- has only real eigenvalues $\\lambda_1, \\lambda_2, \\dots, \\lambda_k$;\n",
    "- can be written as $$A = \\lambda_1 \\mathbf{v}_1\\mathbf{v}_1^\\top + \\lambda_2 \\mathbf{v}_2\\mathbf{v}_2^\\top + \\dots + \\lambda_k \\mathbf{v}_k\\mathbf{v}_k^\\top$$\n",
    "by the **spectral theorem**  \n",
    "\n",
    "####Assume that $|\\lambda_1|\\ge |\\lambda_2| \\ge \\dots  |\\lambda_k|$ and that $|\\lambda_j| = |\\lambda_{j+1}|$ implies that $\\lambda_j = \\lambda_{j+1}$. Then the power method applies and finds the eigenvalue $\\lambda_1$ and the corresponding eigenvector $\\mathbf{v}_1$. Think now what are the eigenvalues and eigenvectors of the matrix $$A - \\lambda_1 \\mathbf{v}_1\\mathbf{v}_1^\\top;$$ do you see how to find the second eigenvalue $\\lambda_2$ and the corresponding eigenvector?"
   ]
  },
  {
   "cell_type": "markdown",
   "id": "7ba51cc3",
   "metadata": {
    "id": "7ba51cc3"
   },
   "source": [
    "### **2.2 (0.3 pt)** Find all eigenvalues and eigenvectors of a symmetric matrix with power method\n",
    "####Explain how to find the second, third etc eigenvalues and the corresponding eigenvectors for a **symmetric** matrix $M$ if the first eigenvalue and the corresponding eigenvector has already been found. Write down the formulas for each step; justify your answer by referring to the corresponding properties of symmetric matrices\n"
   ]
  },
  {
   "cell_type": "markdown",
   "id": "32a5d869",
   "metadata": {
    "id": "32a5d869"
   },
   "source": [
    "---\n",
    "#### **Your explanations here**\n",
    "Because  A is symmetric we can apply the Spectral Theorem: $A=Q^TDQ$ for an orthogonal matrix $Q$ and a diagonal matrix $D$ that contains the eigenvalues.\n",
    "Let $c=Qx(0)$ and we have\n",
    "$$\n",
    "\\lambda_{k+1} = \\frac{c^T D^{2k+1} c}{c^T D^{2k} c }= \\frac{\\sum_{j=1}^{n} c_{2j} \\lambda_{2k+1,j}}{\\sum_{j=1}^{n} c_{2j} \\lambda_{2k,j}}.\n",
    "$$\n",
    "\n",
    "Dividing numerator and denominator by $λ^{2k}_{1}$\n",
    "  where $λ_1$\n",
    "  is assumed to be the dominant eigenvalue, we have\n",
    "$$\n",
    "\\lambda_{k+1} = \\lambda_1 * \\frac{\\sum_{j=2}^{n} c_{j}^2 \\left(\\frac{\\lambda_j}{\\lambda_1}\\right)^{2k+1}}{\\sum_{j=2}^{n} c_{j}^2 \\left(\\frac{\\lambda_j}{\\lambda_1}\\right)^{2k}} = \\lambda_1 * \\frac{1+\\sum_{j=2}^{n} c_{j}^2 \\left(\\frac{\\lambda_j}{\\lambda_1}\\right)^{2k+1}}{1 + \\sum_{j=2}^{n} c_{j}^2 \\left(\\frac{\\lambda_j}{\\lambda_1}\\right)^{2k}} = \\lambda_1 + \\frac{1+O\\left(\\left|\\frac{\\lambda_j}{\\lambda_1}\\right|^{2k+1}\\right)}{1 + O\\left(\\left|\\frac{\\lambda_j}{\\lambda_1}\\right|^{2k}\\right)}.\n",
    "\n",
    "$$\n",
    "\n",
    "From this it follows that $λ^(k)$ would be the approximation of the dominant eigenvalue $λ_1$ of a symmetric matrix using the symmetric Power method, then\n",
    "$$\n",
    "λ(k)=λ_1+O\\left(\\left|\\frac{\\lambda_2}{\\lambda_1}\\right|^{2k}\\right).\n",
    "$$\n",
    "---"
   ]
  },
  {
   "cell_type": "markdown",
   "id": "38bd2972",
   "metadata": {
    "id": "38bd2972"
   },
   "source": [
    "###**2.3. (0.3 pts)** Implementation\n",
    "####Implement the ``symmetric_matrix_find_eig`` function that accepts a **symmetric matrix** $A$ and calculates all eigenpairs of $A$. To test your function, come up with your own $2 \\times 2$ symmetric matrix $M_1$ and $3 \\times 3$ symmetric matrix $M_2$ for which you can calculate the eigenpairs by hand, and compare the results"
   ]
  },
  {
   "cell_type": "code",
   "execution_count": 27,
   "id": "94f42a55",
   "metadata": {
    "ExecuteTime": {
     "start_time": "2023-12-18T19:42:12.296024Z"
    },
    "id": "94f42a55"
   },
   "outputs": [],
   "source": [
    "def symmetric_power_method(A, n_max: int = 10000):\n",
    "    x = np.random.rand(A.shape[1])\n",
    "    x = x / np.linalg.norm(x)\n",
    "    lambda_k_0 = np.inf\n",
    "    tolerance = 1e-5\n",
    "\n",
    "    for _ in range(int(n_max)):\n",
    "        y = np.dot(A, x)\n",
    "        lambda_k = np.dot(x.T, y)\n",
    "        x = y / np.linalg.norm(y)\n",
    "\n",
    "        if np.abs(lambda_k - lambda_k_0) < tolerance:\n",
    "            break\n",
    "\n",
    "    return lambda_k, x\n",
    "\n",
    "def symmetric_matrix_find_eig(A, n_max: int = 100):\n",
    "    \"\"\"\n",
    "    Return a list of eigenpairs (eigenvalues and eigenvectors)\n",
    "    of a symmetric matrix A\n",
    "\n",
    "    Args:\n",
    "        A - symmetric n x n matrix for which to compute the eigenpairs\n",
    "\n",
    "    Returns:\n",
    "        list((eigval, eigvec)) - a list of length n of all eigenpairs stored as\n",
    "                                 tuples (eigval, eigvec).\n",
    "    \"\"\"\n",
    "    #YOUR CODE STARTS HERE\n",
    "\n",
    "    a_matrix = A.copy()\n",
    "    eigen_val_vecs: list[tuple[float, np.array]] = []\n",
    "    eigen_value_k, v = symmetric_power_method(a_matrix)\n",
    "    eigen_val_vecs.append((eigen_value_k, v))\n",
    "    a_matrix -= (eigen_value_k * np.outer(v, v))\n",
    "\n",
    "    for _ in range(A.shape[1]-1):\n",
    "        eigen_value_k, v = symmetric_power_method(a_matrix)\n",
    "        eigen_val_vecs.append((eigen_value_k, v))\n",
    "        # Use Hotelling's deflation method\n",
    "        a_matrix -= (eigen_value_k * np.outer(v, v))\n",
    "\n",
    "    return eigen_val_vecs\n",
    "    #YOUR CODE ENDS HERE\n",
    "\n",
    "\n"
   ]
  },
  {
   "cell_type": "markdown",
   "id": "lTe2CXl9bJi1",
   "metadata": {
    "id": "lTe2CXl9bJi1"
   },
   "source": [
    "---\n",
    "####**Give here the matrices and their eigenpairs calculated by hand**\n",
    "---"
   ]
  },
  {
   "cell_type": "code",
   "execution_count": 28,
   "id": "7d41ccb8",
   "metadata": {
    "ExecuteTime": {
     "start_time": "2023-12-18T19:42:12.297414Z"
    },
    "id": "7d41ccb8"
   },
   "outputs": [
    {
     "name": "stdout",
     "output_type": "stream",
     "text": [
      "eigenvalue: 4.0, eigenvector: [0.70710678 0.70710678]\n",
      "eigenvalue: -2.0000000000000004, eigenvector: [-0.70710678  0.70710678]\n",
      "---\n",
      "eigenvalue: 11.588723439378912, eigenvector: [0.5173332  0.68171308 0.5173332 ]\n",
      "eigenvalue: -3.0, eigenvector: [-7.07106781e-01 -1.25965539e-16  7.07106781e-01]\n",
      "eigenvalue: -2.5887234393789122, eigenvector: [-0.48204394  0.73161963 -0.48204394]\n"
     ]
    }
   ],
   "source": [
    "#call the power_method and symmetric_matrix_find_eig functions of symmetric matrices M_1 and M_2 here\n",
    "M_1 = np.array([[1., 3.],\n",
    "                [3., 1.]])\n",
    "M_1_eigpairs = symmetric_matrix_find_eig(M_1)\n",
    "\n",
    "for e in M_1_eigpairs:\n",
    "    print(f\"eigenvalue: {e[0]}, eigenvector: {e[1]}\")\n",
    "M_2 = np.array([[1., 5., 4.],\n",
    "                [5., 4., 5.],\n",
    "                [4., 5., 1.]])\n",
    "M_2_eigpairs = symmetric_matrix_find_eig(M_2)\n",
    "print(\"---\")\n",
    "for e in M_2_eigpairs:\n",
    "    print(f\"eigenvalue: {e[0]}, eigenvector: {e[1]}\")"
   ]
  },
  {
   "cell_type": "markdown",
   "id": "_7-2AZ0EboWD",
   "metadata": {
    "id": "_7-2AZ0EboWD"
   },
   "source": [
    "#### Test your implementation:"
   ]
  },
  {
   "cell_type": "code",
   "execution_count": 29,
   "id": "cgh_p2NMKu6B",
   "metadata": {
    "id": "cgh_p2NMKu6B"
   },
   "outputs": [],
   "source": [
    "def test_symmetric_matrix_find_eig(A, eigenpairs):\n",
    "\n",
    "    eigenvals_found = np.array([e[0] for e in eigenpairs])\n",
    "    eigenvals_ref, _ = np.linalg.eigh(A)\n",
    "    assert np.allclose(np.sort(eigenvals_found), np.sort(eigenvals_ref)),\\\n",
    "    f\"Incorrect eigenvalue found: {eigenvals_found} differs from {eigenvals_ref}\"\n",
    "    print(\"test_power_method passed successfully\")"
   ]
  },
  {
   "cell_type": "code",
   "execution_count": 30,
   "id": "u4gCJCHZFN6Q",
   "metadata": {
    "id": "u4gCJCHZFN6Q"
   },
   "outputs": [
    {
     "name": "stdout",
     "output_type": "stream",
     "text": [
      "test_power_method passed successfully\n",
      "test_power_method passed successfully\n",
      "test_power_method passed successfully\n"
     ]
    }
   ],
   "source": [
    "A_test_3x3 = (10*np.random.rand(3,3) - 5)\n",
    "A_test_5x5 = (10*np.random.rand(5,5) - 5)\n",
    "A_test_10x10 = (10*np.random.rand(10,10) - 5)\n",
    "A_sym_test_3x3 = A_test_3x3 + A_test_3x3.T\n",
    "A_sym_test_5x5 = A_test_5x5 + A_test_5x5.T\n",
    "A_sym_test_10x10 = A_test_10x10 + A_test_10x10.T\n",
    "\n",
    "test_symmetric_matrix_find_eig(A_sym_test_3x3, symmetric_matrix_find_eig(A_sym_test_3x3))\n",
    "test_symmetric_matrix_find_eig(A_sym_test_5x5, symmetric_matrix_find_eig(A_sym_test_5x5))\n",
    "test_symmetric_matrix_find_eig(A_sym_test_10x10, symmetric_matrix_find_eig(A_sym_test_10x10))"
   ]
  },
  {
   "cell_type": "markdown",
   "id": "0bac0a93",
   "metadata": {
    "id": "0bac0a93"
   },
   "source": [
    "###**2.4 (0.4 pt)** Why is symmetry important?\n",
    "####Explain why this method will not work for **non-symmetric** matrices $A$. Find a $3\\times3$ example of diagonalizable matrix $A$ for which ``symmetric_matrix_find_eig`` function fails to find its correct eigenvalues and eigenvectors\n",
    "\n",
    "The symmetry is important, because for non-symmetric matrix the symmetric power method simply would not work, due to the fact that we cannot apply the spectral theorem as a first step of given algorithm.\n",
    "The symmetric power method (not deflation method) has faster convergence (lower complexity)\n",
    "\n",
    "For example, given non symmetric matrix A:\n",
    "[[-1., 3., -1.],\n",
    " [-3., 5., -1.],\n",
    " [-3., 3., 1.]]\n",
    "With eigenvalues 1, 2 and 2, which is diagonazible, we would get wrong eigenvalues from our symmetric matrix.\n",
    "The method fails not because the matrix A is diagonalizible, but because it's not symmetric and deflation algorithm cannot guarantee that the following $B$ matrix: $B = A - \\lambda * v * v^T $ has eigenvalues smaller than the already found one, resulting in not correct eigenvalues and eigenvectors, because it cannot converge. (You can check that the cell below this one, has called symmetric power method, which does not use deflation, and it has found correct eigenvalue (2))\n",
    "Henceforth, in order to fix this issue we would have to either use another kind of method than power method, its modification, OR use another deflation technic for non-symmetric matrices\n"
   ]
  },
  {
   "cell_type": "code",
   "execution_count": 31,
   "id": "17ae8a89",
   "metadata": {
    "id": "17ae8a89"
   },
   "outputs": [
    {
     "ename": "AssertionError",
     "evalue": "Incorrect eigenvalue found: [2. 2. 1.] differs from [-3.24610782 -0.14681945  8.39292727]",
     "output_type": "error",
     "traceback": [
      "\u001B[0;31m---------------------------------------------------------------------------\u001B[0m",
      "\u001B[0;31mAssertionError\u001B[0m                            Traceback (most recent call last)",
      "Cell \u001B[0;32mIn[31], line 5\u001B[0m\n\u001B[1;32m      1\u001B[0m \u001B[38;5;66;03m#YOUR CODE STARTS HERE\u001B[39;00m\n\u001B[1;32m      2\u001B[0m A_non_symmetric \u001B[38;5;241m=\u001B[39m np\u001B[38;5;241m.\u001B[39marray([[\u001B[38;5;241m-\u001B[39m\u001B[38;5;241m1.\u001B[39m, \u001B[38;5;241m3.\u001B[39m, \u001B[38;5;241m-\u001B[39m\u001B[38;5;241m1.\u001B[39m],\n\u001B[1;32m      3\u001B[0m                             [\u001B[38;5;241m-\u001B[39m\u001B[38;5;241m3.\u001B[39m, \u001B[38;5;241m5.\u001B[39m, \u001B[38;5;241m-\u001B[39m\u001B[38;5;241m1.\u001B[39m],\n\u001B[1;32m      4\u001B[0m                             [\u001B[38;5;241m-\u001B[39m\u001B[38;5;241m3.\u001B[39m, \u001B[38;5;241m3.\u001B[39m, \u001B[38;5;241m1.\u001B[39m]])\n\u001B[0;32m----> 5\u001B[0m \u001B[43mtest_symmetric_matrix_find_eig\u001B[49m\u001B[43m(\u001B[49m\u001B[43mA_non_symmetric\u001B[49m\u001B[43m,\u001B[49m\u001B[43m \u001B[49m\u001B[43msymmetric_matrix_find_eig\u001B[49m\u001B[43m(\u001B[49m\u001B[43mA_non_symmetric\u001B[49m\u001B[43m)\u001B[49m\u001B[43m)\u001B[49m\n\u001B[1;32m      6\u001B[0m \u001B[38;5;66;03m#YOUR CODE ENDS HERE\u001B[39;00m\n",
      "Cell \u001B[0;32mIn[29], line 5\u001B[0m, in \u001B[0;36mtest_symmetric_matrix_find_eig\u001B[0;34m(A, eigenpairs)\u001B[0m\n\u001B[1;32m      3\u001B[0m eigenvals_found \u001B[38;5;241m=\u001B[39m np\u001B[38;5;241m.\u001B[39marray([e[\u001B[38;5;241m0\u001B[39m] \u001B[38;5;28;01mfor\u001B[39;00m e \u001B[38;5;129;01min\u001B[39;00m eigenpairs])\n\u001B[1;32m      4\u001B[0m eigenvals_ref, _ \u001B[38;5;241m=\u001B[39m np\u001B[38;5;241m.\u001B[39mlinalg\u001B[38;5;241m.\u001B[39meigh(A)\n\u001B[0;32m----> 5\u001B[0m \u001B[38;5;28;01massert\u001B[39;00m np\u001B[38;5;241m.\u001B[39mallclose(np\u001B[38;5;241m.\u001B[39msort(eigenvals_found), np\u001B[38;5;241m.\u001B[39msort(eigenvals_ref)),\\\n\u001B[1;32m      6\u001B[0m \u001B[38;5;124mf\u001B[39m\u001B[38;5;124m\"\u001B[39m\u001B[38;5;124mIncorrect eigenvalue found: \u001B[39m\u001B[38;5;132;01m{\u001B[39;00meigenvals_found\u001B[38;5;132;01m}\u001B[39;00m\u001B[38;5;124m differs from \u001B[39m\u001B[38;5;132;01m{\u001B[39;00meigenvals_ref\u001B[38;5;132;01m}\u001B[39;00m\u001B[38;5;124m\"\u001B[39m\n\u001B[1;32m      7\u001B[0m \u001B[38;5;28mprint\u001B[39m(\u001B[38;5;124m\"\u001B[39m\u001B[38;5;124mtest_power_method passed successfully\u001B[39m\u001B[38;5;124m\"\u001B[39m)\n",
      "\u001B[0;31mAssertionError\u001B[0m: Incorrect eigenvalue found: [2. 2. 1.] differs from [-3.24610782 -0.14681945  8.39292727]"
     ]
    }
   ],
   "source": [
    "#YOUR CODE STARTS HERE\n",
    "A_non_symmetric = np.array([[-1., 3., -1.],\n",
    "                            [-3., 5., -1.],\n",
    "                            [-3., 3., 1.]])\n",
    "test_symmetric_matrix_find_eig(A_non_symmetric, symmetric_matrix_find_eig(A_non_symmetric))\n",
    "#YOUR CODE ENDS HERE"
   ]
  },
  {
   "cell_type": "code",
   "execution_count": 32,
   "id": "5f588296",
   "metadata": {},
   "outputs": [
    {
     "data": {
      "text/plain": [
       "(2.0, array([ 0.7217173 ,  0.681695  , -0.12006691]))"
      ]
     },
     "execution_count": 32,
     "metadata": {},
     "output_type": "execute_result"
    }
   ],
   "source": [
    "symmetric_power_method(A_non_symmetric)"
   ]
  },
  {
   "cell_type": "markdown",
   "id": "wtjg5PATd_UA",
   "metadata": {
    "id": "wtjg5PATd_UA"
   },
   "source": [
    "## 3. Inverse power method (0.6 pt)"
   ]
  },
  {
   "cell_type": "markdown",
   "id": "7f178c30",
   "metadata": {
    "id": "7f178c30"
   },
   "source": [
    "###3.1 The main idea\n",
    "#### Now you will try to find non-dominant eigenpairs for a generic matrix $A$ using the **inverse power method / inverse iteration method**. This method finds an eigenvalue of $A$ that is the closest one to a given guess value $\\mu$, along with the corresponding eigenvector. By trying different $\\mu$, we will find all simple eigenvalue/eigenvector pairs of $A$, not just the dominant one.\n",
    "\n",
    "####The idea is that if $\\lambda_*$ is the eigenvalue of $A$ that is the closest one to $\\mu$, then $(\\lambda - \\mu)^{-1}$ is the dominant eigenvalue of the matrix $B:=(A - \\mu I)^{-1}$, while the corresponding eigenvector $\\mathbf{v}_*$ of $B$ is also an eigenvector of $A$ corresponding to $\\lambda_*$.\n",
    "\n",
    "####The natural approach is to find first the dominant eigenvalue $\\lambda_1$ of $A$; then all the remaining eigenvalues satisfy  $$\\forall j\\ne1: |\\lambda_j| \\lt |\\lambda_1|, $$ and we can apply a random search for $|\\mu| < |\\lambda_1|$ and call the **inverse power method** for each such $\\mu$. This way, we will identify all the **simple** eigenvalues and the corresponding eigenvectors of $A$\n",
    "\n",
    ">**Note:** Here, it may be necessary to work with complex numbers. In that case, the corresponding changes to the power method must be made (recall how the scalar product in $\\mathbb{C}^k$ differs from that in $\\mathbb{R}^k$)"
   ]
  },
  {
   "cell_type": "markdown",
   "id": "9d5b9431",
   "metadata": {
    "id": "9d5b9431"
   },
   "source": [
    "###**3.2 (0.4 pt)** Implement the inverse power method\n",
    "#### Function ``inverse_power_method``:"
   ]
  },
  {
   "cell_type": "code",
   "execution_count": 33,
   "id": "dfa30f47",
   "metadata": {
    "id": "dfa30f47"
   },
   "outputs": [],
   "source": [
    "from scipy.linalg import solve\n",
    "\n",
    "\n",
    "def inverse_power_method(A, approx_eigenvalue, start_eigvector=None, max_iter=100):\n",
    "    \"\"\"\n",
    "    Return the largest eigenvalue and it's corresponding eigenvector\n",
    "    using power method.\n",
    "\n",
    "    Args:\n",
    "        A - matrix for which to compute the eigenpair\n",
    "        approx_eigenvalue - the \\mu parameter, a value closest to some eigenvalue l,\n",
    "                            which will be returned together with it's eigenvector\n",
    "        start_eigvector(optional) - eigenvector used for initialization\n",
    "                                    on the first step of power iteration algorithm.\n",
    "                                    Can be an approximation of the real eigenvector,\n",
    "                                    but doesn't have to be. Defaults to None.\n",
    "                                    In such case, the initial vector will be randomized.\n",
    "        max_iter(optional) - maximum number of iterations for the power method.\n",
    "    Returns:\n",
    "        (eigval, eigvec) - a pair of an eigenvalue closest to approx_eigenvalue\n",
    "                           and it's eigenvector.\n",
    "    \"\"\"\n",
    "\n",
    "    #YOUR CODE STARTS HERE\n",
    "    n, m = A.shape\n",
    "\n",
    "    # Set initial vector\n",
    "    if start_eigvector is None:\n",
    "        start_eigvector = np.random.rand(n, 1)\n",
    "    else:\n",
    "        start_eigvector = np.array(start_eigvector).reshape(n, 1)\n",
    "\n",
    "    # Inverse power iteration\n",
    "    for _ in range(int(max_iter)):\n",
    "        # Solve the linear system (A - approx_eigenvalue * I) * x = start_eigvector\n",
    "        lambda_reg = 1e-3  # Small regularization parameter\n",
    "        next_eigvector = np.linalg.solve(A - approx_eigenvalue * np.identity(n) + lambda_reg * np.identity(n), start_eigvector)\n",
    "\n",
    "        # Calculate the eigenvalue estimate using the Rayleigh quotient\n",
    "        eigenvalue = np.dot(next_eigvector.T, np.dot(A, next_eigvector)) / np.dot(next_eigvector.T, next_eigvector)\n",
    "\n",
    "        # Normalize the vector\n",
    "        next_eigvector = next_eigvector / np.linalg.norm(next_eigvector)\n",
    "\n",
    "        # Check for convergence\n",
    "        if np.linalg.norm(next_eigvector - start_eigvector) < 1e-6:\n",
    "            break\n",
    "\n",
    "        start_eigvector = next_eigvector\n",
    "\n",
    "    return eigenvalue[0, 0], start_eigvector.flatten()\n",
    "    #YOUR CODE ENDS HERE"
   ]
  },
  {
   "cell_type": "markdown",
   "id": "e6b3e228",
   "metadata": {
    "id": "e6b3e228"
   },
   "source": [
    "###**3.3 (0.2pt):** Testing the ``inverse_power_method``\n",
    "#### Apply the method to find a few (at least 3) eigenvalues and eigenvectors of the matrix $A$ defined as $$ A = P D P^{-1},$$ where $$ D = \\mbox{diag}(0,1,2,3,\\cdots,9)$$ is diagonal and $P$ is a random $10 \\times 10$ matrix. Explain why the diagonal entries of $D$ are eigenvalues of $A$ and why the columns of $P$ are the corresponding eigenvectors. Use that observation to test the found eigenvalues and eigenvectors of $A$\n",
    "\n",
    "For diagonal entries D:\n",
    "For a diagonal matrix $D$ = $diag(\\lambda_1, \\lambda_2, ..., \\lambda_n)$ the eigenvalues are just the elements of a basis\n",
    "When a matrix is multiplied by a basis vector, the result is scaled corresponding to the diagonal entries.\n",
    "When A operates on the columns of P, the effect is the same as of D on the basis, henceforth the D are the eigenvalues of A.\n",
    "For P as corresponding Eigenvectors:\n",
    "If a matrix $\\(A\\)$ can be diagonalized as $\\(A = P D P^{-1}\\)$, then the columns of $\\(P\\)$ are the eigenvectors of $\\(A\\)$, and $\\(D\\)$ contains the corresponding eigenvalues.\n",
    "The columns of $\\(P\\)$ form a basis for the eigenspace corresponding to the eigenvalues on the diagonal of $\\(D\\)$.\n",
    "Each column of $\\(P\\)$ corresponds to an eigenvector, and the linear combination of these columns can represent any vector in the eigenspace.\n",
    "When $\\(A\\)$ operates on the columns of $\\(P\\)$, each column remains an eigenvector of $\\(A\\)$, and the corresponding eigenvalue is obtained from the diagonal entry of $\\(D\\)$.\n",
    "\n",
    "The diagonal entries of $\\(D\\)$ are eigenvalues of $\\(A\\)$ since they characterize the scaling effect on the standard basis vectors when $\\(A\\)$ is applied. The columns of $\\(P\\)$ are the corresponding eigenvectors because they form a basis for the eigenspace, and when $\\(A\\)$ operates on these columns, the result is a scaled version of the corresponding column."
   ]
  },
  {
   "cell_type": "code",
   "execution_count": 35,
   "id": "2a30f0cb",
   "metadata": {
    "id": "2a30f0cb",
    "ExecuteTime": {
     "end_time": "2023-12-18T19:55:52.345843Z",
     "start_time": "2023-12-18T19:55:52.336009Z"
    }
   },
   "outputs": [
    {
     "name": "stdout",
     "output_type": "stream",
     "text": [
      "\n",
      "I: 1\n",
      "Eigenvalue\n",
      "Actual: 0\n",
      "Computed: 5.170427635287684e-10\n",
      "Eigenvector\n",
      "Actual: [ 0.46547134  0.56005314  0.17713856  0.27894406  0.25140177 -0.10312496\n",
      "  0.28509268  0.13328012  0.30344001  0.30908604]\n",
      "Computed: [ 0.46547163  0.56005283  0.17713869  0.27894385  0.25140165 -0.10312463\n",
      "  0.28509295  0.13328049  0.30343981  0.30908627]\n",
      "    \n",
      "\n",
      "I: 2\n",
      "Eigenvalue\n",
      "Actual: 1\n",
      "Computed: 1.000000000046993\n",
      "Eigenvector\n",
      "Actual: [ 0.5803764   0.00118026  0.22930106 -0.04635418 -0.01567917  0.22514519\n",
      "  0.45012993  0.4291253  -0.0469584   0.41052088]\n",
      "Computed: [ 0.58037632  0.00118003  0.229301   -0.04635412 -0.01567932  0.2251452\n",
      "  0.45013007  0.42912518 -0.04695861  0.41052096]\n",
      "    \n",
      "\n",
      "I: 3\n",
      "Eigenvalue\n",
      "Actual: 2\n",
      "Computed: 1.999999999998767\n",
      "Eigenvector\n",
      "Actual: [ 0.50459035  0.30325805  0.03291481  0.33554827 -0.11199695 -0.16102761\n",
      "  0.45650053  0.01601152 -0.09819813  0.53196044]\n",
      "Computed: [-0.50459035 -0.30325805 -0.03291481 -0.33554828  0.11199695  0.16102761\n",
      " -0.45650054 -0.01601152  0.09819813 -0.53196044]\n",
      "    \n",
      "\n",
      "I: 4\n",
      "Eigenvalue\n",
      "Actual: 3\n",
      "Computed: 2.999999999987381\n",
      "Eigenvector\n",
      "Actual: [-0.06089781  0.12292692  0.29952218  0.39483246  0.4557526  -0.1039985\n",
      "  0.56992997 -0.17581738  0.38634004 -0.10980686]\n",
      "Computed: [-0.06089768  0.12292683  0.29952228  0.39483254  0.45575261 -0.10399816\n",
      "  0.56993013 -0.17581709  0.38634    -0.10980656]\n",
      "    \n",
      "\n",
      "I: 5\n",
      "Eigenvalue\n",
      "Actual: 4\n",
      "Computed: 3.9999999999998326\n",
      "Eigenvector\n",
      "Actual: [-0.01395629  0.01008286  0.04567073  0.42720618  0.04531129  0.54995054\n",
      "  0.12641552  0.44156601 -0.10273783  0.53767781]\n",
      "Computed: [-0.01395629  0.01008286  0.04567073  0.42720618  0.04531129  0.54995054\n",
      "  0.12641552  0.44156601 -0.10273783  0.53767781]\n",
      "    \n",
      "\n",
      "I: 6\n",
      "Eigenvalue\n",
      "Actual: 5\n",
      "Computed: 4.999999999987296\n",
      "Eigenvector\n",
      "Actual: [ 0.39765701 -0.15260897  0.38168849  0.08086811  0.15777788  0.11656359\n",
      "  0.49545817  0.00864356  0.40364854  0.46838774]\n",
      "Computed: [ 0.39765702 -0.15260897  0.38168849  0.08086811  0.15777787  0.11656357\n",
      "  0.49545817  0.00864355  0.40364854  0.46838774]\n",
      "    \n",
      "\n",
      "I: 7\n",
      "Eigenvalue\n",
      "Actual: 6\n",
      "Computed: 5.999999999999595\n",
      "Eigenvector\n",
      "Actual: [-0.13688682 -0.08279867 -0.05561834 -0.11030838  0.60511417  0.63988009\n",
      "  0.27989315  0.27083875  0.06418157  0.16650007]\n",
      "Computed: [-0.13688682 -0.08279866 -0.05561835 -0.11030839  0.60511417  0.63988009\n",
      "  0.27989315  0.27083875  0.06418157  0.16650007]\n",
      "    \n",
      "\n",
      "I: 8\n",
      "Eigenvalue\n",
      "Actual: 7\n",
      "Computed: 6.999999999998845\n",
      "Eigenvector\n",
      "Actual: [ 0.53085597  0.46160617 -0.17524624 -0.20337833  0.03192125  0.23193456\n",
      "  0.49065205 -0.14186344  0.12859409  0.31752791]\n",
      "Computed: [ 0.53085598  0.46160617 -0.17524624 -0.20337833  0.03192125  0.23193456\n",
      "  0.49065205 -0.14186344  0.12859409  0.31752791]\n",
      "    \n",
      "\n",
      "I: 9\n",
      "Eigenvalue\n",
      "Actual: 8\n",
      "Computed: 7.999999999638011\n",
      "Eigenvector\n",
      "Actual: [ 0.29222169 -0.13833601  0.04040449 -0.21122389  0.02117726  0.36619712\n",
      "  0.6937242   0.0558475   0.16901456  0.44914879]\n",
      "Computed: [-0.29222158  0.13833637 -0.04040471  0.21122373 -0.02117729 -0.36619719\n",
      " -0.69372424 -0.05584769 -0.16901446 -0.44914869]\n",
      "    \n",
      "\n",
      "I: 10\n",
      "Eigenvalue\n",
      "Actual: 9\n",
      "Computed: 8.999999999998508\n",
      "Eigenvector\n",
      "Actual: [ 0.53303269 -0.00214393  0.3229577   0.33899308  0.16944152  0.36425467\n",
      "  0.49545894  0.23388724 -0.17144742 -0.07539676]\n",
      "Computed: [-0.53303269  0.00214393 -0.3229577  -0.33899308 -0.16944152 -0.36425467\n",
      " -0.49545893 -0.23388724  0.17144742  0.07539676]\n",
      "    \n"
     ]
    }
   ],
   "source": [
    "D = np.diag([0,1,2,3,4,5,6,7,8,9])\n",
    "P = (20*np.random.rand(10,10) - 5)\n",
    "#define A through known eigenvalues and random eigenvectors\n",
    "A = P @ D @ np.linalg.inv(P)\n",
    "#YOUR CODE STARTS HERE\n",
    "for i in range(A.shape[1]):\n",
    "    eigenvalue, eigenvector = inverse_power_method(A, D[i, i])\n",
    "    print(f\"\"\"\n",
    "I: {i + 1}\n",
    "Eigenvalue\n",
    "Actual: {D[i, i]}\n",
    "Computed: {eigenvalue}\n",
    "Eigenvector\n",
    "Actual: {P[:, i]/np.linalg.norm(P[:, i])}\n",
    "Computed: {eigenvector}\n",
    "    \"\"\")\n",
    "#YOUR CODE ENDS HERE"
   ]
  },
  {
   "cell_type": "markdown",
   "id": "bA374zTJky7A",
   "metadata": {
    "id": "bA374zTJky7A"
   },
   "source": [
    "##4. Conclusions (0.4 pts)"
   ]
  },
  {
   "cell_type": "markdown",
   "id": "bjbspZsZlSzH",
   "metadata": {
    "id": "bjbspZsZlSzH"
   },
   "source": [
    "#### Summarize in a few sentences what you learned by completing this task. Mention the difficulties you might have faced with, any properties/facts that you now understand better (if any)"
   ]
  },
  {
   "cell_type": "markdown",
   "id": "YWmRnhKMl7SK",
   "metadata": {
    "id": "YWmRnhKMl7SK"
   },
   "source": [
    "---\n",
    "In this task I've learned how to calculate the eigenvalues and eigenvectors, the role and importance of dominant eigenvalue. For instance, I familiarized myself with deflation technique, to calculate further eigenvalues smaller than the dominate one, using the same power method. Furthermore, I understood and implemented symmetric power method which is more efficient\n",
    "for symmetric matrices, but not as general as the simple power method.\n",
    "Also, I checked cases when these methods do not work properly, and when they might not converge, for instance classical power methods works bad with initial estimate vector being\n",
    "orthogonal to true eigenvector corresponding dominating eigenvalue.\n",
    "---"
   ]
  }
 ],
 "metadata": {
  "colab": {
   "provenance": []
  },
  "kernelspec": {
   "display_name": "Python 3 (ipykernel)",
   "language": "python",
   "name": "python3"
  },
  "language_info": {
   "codemirror_mode": {
    "name": "ipython",
    "version": 3
   },
   "file_extension": ".py",
   "mimetype": "text/x-python",
   "name": "python",
   "nbconvert_exporter": "python",
   "pygments_lexer": "ipython3",
   "version": "3.10.13"
  }
 },
 "nbformat": 4,
 "nbformat_minor": 5
}
