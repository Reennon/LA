{
 "cells": [
  {
   "cell_type": "markdown",
   "id": "3082c243",
   "metadata": {
    "id": "EQznMLwjRzhi"
   },
   "source": [
    "# **Linear Algebra for Data Science**: HW3, task 5 (3 pts)\n",
    "# Iterative methods for eigenvalue calculations\n",
    "\n",
    "### <div align=\"right\"> &copy; Yurii Yeliseev & Rostyslav Hryniv, 2023 </div>\n",
    "\n",
    "## Completed by:   \n",
    "*   Roman Kovalchuk\n",
    "*   Eduard Pekach\n",
    "\n",
    "The aim of this task is to implement two iterative methods for eigenvalue and eigenvector calculations, the Jacobi and QR ones.\n"
   ]
  },
  {
   "cell_type": "markdown",
   "id": "6d9548fd",
   "metadata": {
    "id": "BPiRUcHnhqxX"
   },
   "source": [
    "# 1. Jacobi method **(1 pt)**\n",
    "The Jacobi method is applicable to symmetric matrices $A$ and uses the ***Givens rotations*** (also called  ***Jacobi rotations*** in this context) that consecutively decrease the off-diagonal part $$\\mbox{off}(A):=\\sum_{i\\ne j} |a_{ij}|^2$$ and thus transform $A$ to \"nearly\" diagonal form. (See the corresponding task from the first homework for details on the Givens rotations.) If $$A_k = Q_kQ_{k-1}\\cdots Q_2Q_1 A Q_1^\\top Q_2^\\top \\cdots Q_{k-1}^\\top Q_k^\\top$$ is alsmost diagonal, then its diagonal entries are close to the eigenvalues of $A$, and the approximation to eigenvectors can be obtained from the Givens rotations."
   ]
  },
  {
   "cell_type": "markdown",
   "id": "6827d39d",
   "metadata": {
    "id": "D9XW-1Fp_jd0"
   },
   "source": [
    "## 1.1. Algorithm justification\n",
    "#### 1.1.1. Basic step\n",
    "Assume that $A$ is an $n\\times n$ symmetric matrix and that indices $p,q$ with $1\\le p < q \\le n$ are such that $a_{pq} \\ne 0$. The task is to find an angle $\\theta$ such that, with $c:=\\cos\\theta$ and $s:=\\sin\\theta$, the matrix\n",
    "$$\\begin{pmatrix} b_{pp} & b_{pq} \\\\ b_{qp} & b_{qq} \\end{pmatrix} = \\begin{pmatrix} c & -s \\\\ s & c \\end{pmatrix}\\begin{pmatrix} a_{pp} & a_{pq} \\\\ a_{qp} & a_{qq} \\end{pmatrix}\\begin{pmatrix}c & s \\\\ -s & c  \\end{pmatrix}$$ is diagonal.\n"
   ]
  },
  {
   "cell_type": "markdown",
   "id": "1beb5a1d",
   "metadata": {
    "id": "62gNxDp9_rj0"
   },
   "source": [
    "#### **Task 1.1.2**: Explain why $|b_{pp}|^2 + |b_{qq}|^2 > |a_{pp}|^2 + |a_{qq}|^2$\n",
    "\n",
    "____\n",
    "Consider Frobenius norm, which is invariant under orthogonal transformations;\n",
    "and the fact that rows and columns p and q of A are modified in B:\n",
    "$$\n",
    "\\text{off}(B)^2 = ||B||_F^2 - \\sum_{i=1}^{n} b_{ii}^2 \\\\\n",
    "= ||A||_F^2 - \\sum_{i!=p, q} b_{ii}^2 - (b_{pp}^2 + b_{qq}^2) \\\\\n",
    "= ||A||_F^2 - \\sum_{i!=p, q} a_{ii}^2 - (a_{pp}^2 + 2 * a_{pq}^2 + a_{qq}^2) \\\\\n",
    "= ||A||_F^2 - \\sum_{i=1}^{n} a_{ii}^2 - 2 * a_{pq}^2 \\\\\n",
    "= \\text{off}^2 - 2a_{pq}^2 \\\\\n",
    "< \\text{off}^2\n",
    "$$\n",
    "---"
   ]
  },
  {
   "cell_type": "markdown",
   "id": "c7991ce4",
   "metadata": {
    "id": "NePG_S2o_neA"
   },
   "source": [
    "\n",
    "#### **Task 1.1.3**: Find the angle $\\theta$ so that the above matrix $B$ is diagonal\n",
    "---\n",
    "In order for matrix B to be diagonal, the $s$ parameter has to equal to 0, and $c$ equal to 1:\n",
    "Following these relationships from Symmetric Schur Decomposition:\n",
    "$$\n",
    "\\frac{s}{c} = t \\text{ ,   } s^2 + c^2 = 1 \\\\\n",
    "\\text{where, } t = -\\tau + / - \\sqrt{ 1 + \\tau^2} = \\tan{\\theta} \\\\\n",
    "\\text{Henceforth, } s \\text{ has to equal: } 0 \\\\\n",
    "\\text{And, } c \\text{ has to either equal to } 1 \\text{ or } -1 \\text{ to fulfill the relationship: } s^2 + c^2 = 1 \\\\\n",
    "\\text{Therefore, considering: } \\tan{\\theta} = t => \\tan{\\theta} = 0 \\text{ as } \\frac{s}{c} = t; s = 0 => \\theta = \\pi * n \\text{ for any real n }\n",
    "$$\n",
    "\n",
    "---  \n"
   ]
  },
  {
   "cell_type": "markdown",
   "id": "8370c639",
   "metadata": {
    "id": "i5oFcTJ6Cih4"
   },
   "source": [
    "### **Task 1.1.4**: write a function that for a given matrix $A$ and indices $p<q$ finds the angle $\\theta$ in the Jacobi rotation $J$  \n"
   ]
  },
  {
   "cell_type": "code",
   "execution_count": 12,
   "id": "e0854393",
   "metadata": {
    "id": "KoSY8FMtC_95",
    "ExecuteTime": {
     "end_time": "2024-01-14T16:12:17.741823Z",
     "start_time": "2024-01-14T16:12:17.411965Z"
    }
   },
   "outputs": [],
   "source": [
    "import numpy as np\n",
    "def calc_rotation_angle(A, p, q):\n",
    "    if A[p, p] == A[q, q]:\n",
    "        return np.pi / 4 if A[p, q] != 0 else 0\n",
    "    else:\n",
    "        return np.arctan(2 * A[p, q] / (A[q, q] - A[p, p])) / 2"
   ]
  },
  {
   "cell_type": "markdown",
   "id": "bca02080",
   "metadata": {
    "id": "CAtm4pmiAZbS"
   },
   "source": [
    "## 1.2 The algorithm and its implementation\n",
    "Denote by $$J(p,q,\\theta): = \\begin{pmatrix}1 & \\dots & 0 & \\dots & 0 &  \\dots & 0 \\\\ \\vdots & \\ddots & \\vdots & & \\vdots & & \\vdots \\\\ 0 & \\dots & c & \\dots & s & \\dots & 0 \\\\ \\vdots & \\ddots & \\vdots & & \\vdots & & \\vdots \\\\ 0 & \\dots & -s & \\dots & c & \\dots & 0 \\\\ \\vdots & \\ddots & \\vdots & & \\vdots & & \\vdots \\\\ 0 & \\dots & 0 & \\dots & 0 &  \\dots & 1 \\end{pmatrix}$$ the Jacobi (Givens) rotation in entries $p<q$.\n",
    "\n",
    "Given a symmetric $n\\times n$ matrix $A$ and a positive\n",
    "tolerance $\\mbox{tol}$, we find an orthogonal $V = J_1 J_2\\cdots J_k$ such that $B:= V^\\top A V$ has small off-diagonal part, namely $\\mbox{off}(B) \\le \\delta:= \\mbox{tol}\\cdot \\|A\\|_F$.\n",
    "\n",
    "#### **Initialize:** $V = I_n$, $B=A$\n",
    "#### **while** $\\mbox{off}(B) > \\delta$:  \n",
    "- find $p<q$ s.t. $|b_{pq}| = \\max_{i\\ne j}|b_{ij}|$\n",
    "- set $\\theta = \\texttt{rot_angle}(B, p, q)$\n",
    "- update $B = J(p,q,\\theta)^\\top B J(p,q,\\theta)$\n",
    "- update $V = V J(p,q,\\theta)$\n",
    "\n",
    "#### **end**\n",
    "\n",
    "\n"
   ]
  },
  {
   "cell_type": "markdown",
   "id": "b281a517",
   "metadata": {
    "id": "-aFBsQ04H5VO"
   },
   "source": [
    "---\n",
    "### **Task 1.2.1**: Implement the above algorithm"
   ]
  },
  {
   "cell_type": "code",
   "execution_count": 13,
   "id": "833e5a67",
   "metadata": {
    "id": "qGsNY60yH7Vo",
    "ExecuteTime": {
     "end_time": "2024-01-14T16:12:17.741884Z",
     "start_time": "2024-01-14T16:12:17.506058Z"
    }
   },
   "outputs": [],
   "source": [
    "def jacobi_method(A, tol=1e-8, max_iter=1000):\n",
    "    \"\"\"\n",
    "    The jacobi_method function is used to calculate the eigenvalues and eigenvectors of a square matrix using the Jacobi method.\n",
    "\n",
    "    Inputs:\n",
    "\n",
    "    A (numpy.ndarray): The square matrix for which the eigenvalues and eigenvectors are to be calculated.\n",
    "    tol (float): The tolerance level. The default value is 1e-8.\n",
    "    max_iter (int): The maximum number of iterations to perform. The default value is 1000.\n",
    "    Outputs:\n",
    "\n",
    "    numpy.ndarray: The eigenvalues of the input matrix.\n",
    "    numpy.ndarray: The eigenvectors of the input matrix.\n",
    "    \"\"\"\n",
    "    n = A.shape[0]\n",
    "    V = np.eye(n)\n",
    "    B = np.copy(A)\n",
    "    off_A = np.sqrt(np.sum(np.square(A)) - np.sum(np.square(np.diag(A))))\n",
    "    delta = tol * off_A\n",
    "    \n",
    "    for e in range(max_iter):\n",
    "        off_B = np.sqrt(np.sum(np.square(B)) - np.sum(np.square(np.diag(B))))\n",
    "        if off_B <= delta:\n",
    "            break\n",
    "        \n",
    "        max_val = 0\n",
    "        p, q = 0, 1\n",
    "        for i in range(n):\n",
    "            for j in range(i+1, n):\n",
    "                if abs(A[i, j]) > max_val:\n",
    "                    max_val = abs(A[i, j])\n",
    "                    p, q = i, j\n",
    "                    \n",
    "        if B[p, p] == B[q, q]:\n",
    "            theta = np.pi / 4\n",
    "        else:\n",
    "            theta = 0.5 * np.arctan2(2 * B[p, q], B[q, q] - B[p, p])\n",
    "        J = np.eye(len(B))\n",
    "        J[p, p] = J[q, q] = np.cos(theta)\n",
    "        J[p, q] = -np.sin(theta)\n",
    "        J[q, p] = np.sin(theta)\n",
    "\n",
    "        B = J.T @ B @ J\n",
    "        V = V @ J\n",
    "\n",
    "    eigenvalues = np.diag(B)\n",
    "    eigenvectors = V\n",
    "    return eigenvalues, eigenvectors"
   ]
  },
  {
   "cell_type": "markdown",
   "id": "9fa8ff8f",
   "metadata": {
    "id": "XQHmEIQIIE3M"
   },
   "source": [
    "Observe that on each step the norm of the off-diagonal part of $B$ decreases at least by the factor $(N-1)/N$, where $N:=n(n-1)$. Therefore, the algorithm converges in a finite number of steps\n",
    "\n",
    "---\n",
    "### **Task 1.2.2**: Eigenvalues and eigenvectors by Jacobi method\n",
    "\n",
    "##### Given that $B = V^\\top AV$ is almost diagonal, identify the approximate eigenvalues and eigenvectors of $A$\n",
    "---\n",
    "When we come up with\n",
    "$$\n",
    "V^T A V = B;\n",
    "$$\n",
    "where $D$ is diagonal and $V$ is a rotation matrix. Then the diagonal entries of $B$ are the\n",
    "eigenvalues of $A$ and the columns of $V$ are eigenvectors of $A$.\n",
    "\n",
    "The off diagonal terms will tend to zero in the limit as the number of iterations goes to\n",
    "infinity. In fact, we can guarantee a limit on the number of iterations it will take before\n",
    "the off diagonal entries all round off to zero.\n",
    "\n",
    "\n",
    "---"
   ]
  },
  {
   "cell_type": "markdown",
   "id": "b8e87428",
   "metadata": {
    "id": "2w48gY9dKg00"
   },
   "source": [
    "# 2. QR-method **(1 pt)**\n",
    "\n",
    "The $QR$ eigenvalue method is based on the observation that, under mild assumptions on an $n\\times n$ matrix $A$, the sequence constructed starting with $A_1 = A$ and the update step $$A_k = Q_kR_k \\quad \\mapsto \\quad A_{k+1}:=R_kQ_k$$\n",
    "coverges to an upper-triangular $A_*$ holding the eigenvalues of the initial matrix $A$\n"
   ]
  },
  {
   "cell_type": "markdown",
   "id": "c97bd3a5",
   "metadata": {
    "id": "Jg5ME8evL_wj"
   },
   "source": [
    "## 2.1 Justification of the method\n",
    "\n",
    "The fact that the sequence $A_k$ converges to an upper-triangular limit is rather difficult to prove and is skipped here. We will justify that the method gives the eigenvalues of $A$ and, in symmetric case, also the corresponding eigenvectors"
   ]
  },
  {
   "cell_type": "markdown",
   "id": "0063afa8",
   "metadata": {
    "id": "z0Y1aQjiMjHY"
   },
   "source": [
    "### 2.1.1. Eigenvalues\n",
    "Explain why the diagonal entries of the upper-triangular limiting matrix $A_* = \\lim_{k\\to\\infty} A_k$ are eigenvalues of $A$ *(Hint: show that all matrices $A_k$ are similar to $A$)*\n",
    "\n",
    "---\n",
    "The basic QR algorithm can be visualized in the case where A is a positive-definite symmetric matrix. In that case, A can be depicted as an ellipse in 2 dimensions or an ellipsoid in higher dimensions.\n",
    "\n",
    "It's essential to note that computationally finding a single eigenvector of a symmetric matrix is generally not feasible, especially when the multiplicities of the eigenvalues are unknown. However, the computational complexity issue doesn't apply to finding eigenvalues, as they are always computable.\n",
    "\n",
    "In the context of the basic QR algorithm, consider the case where \\(A\\) is a positive-definite symmetric matrix, visualized as an ellipse in 2D or an ellipsoid in higher dimensions. As the two eigenvalues of the input matrix approach each other, the ellipse transforms into a circle, corresponding to a multiple of the identity matrix. The near-circle represents a near-multiple of the identity matrix with eigenvalues nearly equal to the diagonal entries of the matrix. This illustrates that the problem of approximately finding eigenvalues is manageable in this scenario. However, the challenge lies in determining eigenvectors, which can only be accurately known when the semi-axes of the ellipses are parallel to the coordinate axes. As the input ellipse becomes more circular, the number of iterations required to achieve near-parallelism increases without bound.\n",
    "\n",
    "---"
   ]
  },
  {
   "cell_type": "markdown",
   "id": "d11d7632",
   "metadata": {
    "id": "kEUqHgYfNL5G"
   },
   "source": [
    "### 2.1.2. Eigenvectors\n",
    "Assume now that the initial matrix $A$ is symmetric. Explain why all matrices $A_k$ are also symmetric. Conclude that the limiting matrix $A_*$ is diagonal. Then identify an orthogonal matrix $V$ such that $A_* = V^\\top AV$ and thus find the corresponding eigenvectors of $A$\n",
    "\n",
    "---\n",
    "### 2.1.2. Eigenvectors\n",
    "\n",
    "When the initial symmetric matrix $A$ undergoes the QR algorithm, all subsequent matrices $A_k$ in the iteration remain symmetric due to the orthogonal transformations involved, keeping the symmetry.\n",
    "\n",
    "The symmetry of the matrix $A_*$ is a consequence of the symmetry of each $A_k$ matrix. As $A_*$ represents the limit of the sequence of symmetric matrices $A_k$, it also has the symmetry property, one of the characteristics of the QR algorithm.\n",
    "\n",
    "In the context of the spectral decomposition of a symmetric matrix $A = VDV^\\top$, where $V$ is an orthogonal matrix of eigenvectors and $D$ is a diagonal matrix of eigenvalues, the limiting matrix $A_*$ can be expressed as\n",
    "\n",
    "$$\n",
    "\n",
    "A_* = V_*D_*V_*^\\top\n",
    "\n",
    "$$\n",
    "Where, $V_*$ is orthogonal, and $D_*$ is diagonal.\n",
    "\n",
    "By identifying $V$ as $V_*$, we can express $A_* = V^\\top AV$, illustrating that the matrix $V$ has the eigenvectors of $A$, diagonalizing $A_*$ with $V$.\n",
    "\n",
    "---"
   ]
  },
  {
   "cell_type": "markdown",
   "id": "e4a4eec9",
   "metadata": {
    "id": "QHNdTq3iOKIx"
   },
   "source": [
    "## 2.2. Implementation of the method\n",
    "No need to implement the QR factorization from the scratch (although you may use your solutions of the HW1 based on the Givens rotations and/or Householder reflections)"
   ]
  },
  {
   "cell_type": "code",
   "execution_count": 14,
   "id": "e024a588",
   "metadata": {
    "id": "SNt5DRWsOlSR",
    "ExecuteTime": {
     "end_time": "2024-01-14T16:12:17.741933Z",
     "start_time": "2024-01-14T16:12:17.512250Z"
    }
   },
   "outputs": [],
   "source": [
    "def QR_method(A, tol=1e-10, max_iter=1000):\n",
    "    \"\"\"The QR_method function is used to calculate the eigenvalues of a square matrix using the QR method.\n",
    "\n",
    "    Inputs:\n",
    "\n",
    "    A (numpy.ndarray): The square matrix for which the eigenvalues are to be calculated.\n",
    "    tol (float): The tolerance level. The default value is 1e-10.\n",
    "    max_iter (int): The maximum number of iterations to perform. The default value is 1000.\n",
    "    Outputs:\n",
    "\n",
    "    numpy.ndarray: The diagonal of the final transformed matrix A, which represents the eigenvalues of the input matrix\"\"\"\n",
    "    n = A.shape[0]\n",
    "    Q_total = np.eye(n)\n",
    "\n",
    "    for _ in range(max_iter):\n",
    "        Q, R = np.linalg.qr(A)\n",
    "        A = R @ Q\n",
    "        Q_total = Q_total @ Q\n",
    "\n",
    "        # Check for convergence\n",
    "        off_diagonal = A - np.diag(np.diagonal(A))\n",
    "        if np.all(np.abs(off_diagonal) < tol):\n",
    "            break\n",
    "\n",
    "    eigenvalues = np.diag(A)\n",
    "    eigenvectors = Q_total\n",
    "    return eigenvalues, eigenvectors"
   ]
  },
  {
   "cell_type": "markdown",
   "id": "200bcb28",
   "metadata": {
    "id": "eGcX5xjQO0vm"
   },
   "source": [
    "# 3. Testing **(0.5 pts)**"
   ]
  },
  {
   "cell_type": "markdown",
   "id": "ad1af8d2",
   "metadata": {
    "id": "fl25X-7MPZy5"
   },
   "source": [
    "## 3.1 Initializing $A$\n",
    "Generate a $10\\times 10$ matrix $A = QDQ^{\\top}$, where $Q$ is a (randomly generated) orthogonal matrix  and $D=\\mbox{diag}\\{1,2,\\dots,10\\}$ is a diagonal matrix. To generate $Q$, start with a $10\\times 10$ matrix $B$ with random entries in $(0,1)$ and apply the $QR$-factorisation of $B$, $B=QR$, to determine $Q$. Alternatively, apply Gram-Schmidt to find an orthonormal basis of $\\mathbb{R}^{10}$"
   ]
  },
  {
   "cell_type": "code",
   "execution_count": 15,
   "id": "d174fe1c",
   "metadata": {
    "id": "OYBxtP17QFsr",
    "ExecuteTime": {
     "end_time": "2024-01-14T16:12:17.741975Z",
     "start_time": "2024-01-14T16:12:17.529432Z"
    }
   },
   "outputs": [],
   "source": [
    "B = np.random.rand(10, 10)\n",
    "Q, R = np.linalg.qr(B)\n",
    "D = np.diag(range(1, 11))\n",
    "A = Q @ D @ Q.T"
   ]
  },
  {
   "cell_type": "markdown",
   "id": "aefa524b",
   "metadata": {
    "id": "piIT3g6DQIyI"
   },
   "source": [
    "## 3.2 Eigenvalue and eigenvector calculations\n",
    "\n",
    "### 3.2.1. Jacobi method\n",
    "Apply Jacobi method to determine the eigenvalues and eigenvectors"
   ]
  },
  {
   "cell_type": "code",
   "execution_count": 18,
   "id": "6449cc27",
   "metadata": {
    "id": "CeLaNP1aQTfP",
    "ExecuteTime": {
     "end_time": "2024-01-14T16:12:33.745497Z",
     "start_time": "2024-01-14T16:12:33.730664Z"
    }
   },
   "outputs": [
    {
     "data": {
      "text/plain": "(array([6.08479562, 6.11995737, 5.51617012, 4.92232377, 7.38782061,\n        4.78346683, 3.65259682, 7.12359033, 3.4625272 , 5.94675134]),\n array([[ 1.        ,  0.        ,  0.        ,  0.        ,  0.        ,\n          0.        ,  0.        ,  0.        ,  0.        ,  0.        ],\n        [ 0.        ,  1.        ,  0.        ,  0.        ,  0.        ,\n          0.        ,  0.        ,  0.        ,  0.        ,  0.        ],\n        [ 0.        ,  0.        ,  1.        ,  0.        ,  0.        ,\n          0.        ,  0.        ,  0.        ,  0.        ,  0.        ],\n        [ 0.        ,  0.        ,  0.        ,  1.        ,  0.        ,\n          0.        ,  0.        ,  0.        ,  0.        ,  0.        ],\n        [ 0.        ,  0.        ,  0.        ,  0.        ,  0.81005847,\n          0.        ,  0.5863491 ,  0.        ,  0.        ,  0.        ],\n        [ 0.        ,  0.        ,  0.        ,  0.        ,  0.        ,\n          1.        ,  0.        ,  0.        ,  0.        ,  0.        ],\n        [ 0.        ,  0.        ,  0.        ,  0.        , -0.5863491 ,\n          0.        ,  0.81005847,  0.        ,  0.        ,  0.        ],\n        [ 0.        ,  0.        ,  0.        ,  0.        ,  0.        ,\n          0.        ,  0.        ,  1.        ,  0.        ,  0.        ],\n        [ 0.        ,  0.        ,  0.        ,  0.        ,  0.        ,\n          0.        ,  0.        ,  0.        ,  1.        ,  0.        ],\n        [ 0.        ,  0.        ,  0.        ,  0.        ,  0.        ,\n          0.        ,  0.        ,  0.        ,  0.        ,  1.        ]]))"
     },
     "execution_count": 18,
     "metadata": {},
     "output_type": "execute_result"
    }
   ],
   "source": [
    "eigenvalues_jac, eigenvectors_jac = jacobi_method(A)\n",
    "eigenvalues_jac, eigenvectors_jac"
   ]
  },
  {
   "cell_type": "markdown",
   "id": "501d480a",
   "metadata": {
    "id": "_avElGrLQZ-L"
   },
   "source": [
    "### 3.2.2 QR method\n",
    "Apply the QR method to determine the eigenvalues and eigenvectors"
   ]
  },
  {
   "cell_type": "code",
   "execution_count": 19,
   "id": "74610c86",
   "metadata": {
    "id": "4424f9fd",
    "ExecuteTime": {
     "end_time": "2024-01-14T16:12:43.400739Z",
     "start_time": "2024-01-14T16:12:43.394265Z"
    }
   },
   "outputs": [
    {
     "data": {
      "text/plain": "(array([10.,  9.,  8.,  7.,  6.,  5.,  4.,  3.,  2.,  1.]),\n array([[-0.38827504, -0.10812079, -0.46393328, -0.26824613,  0.42298503,\n         -0.29098992,  0.35594055, -0.12516819, -0.22668337,  0.3049996 ],\n        [-0.32989625, -0.37221769,  0.52265921, -0.22670563, -0.09148574,\n          0.13850316,  0.07923566, -0.55413498,  0.24490317,  0.1648641 ],\n        [ 0.18678413, -0.03196293,  0.09776713, -0.46128275, -0.46893745,\n         -0.6379503 , -0.15293978,  0.16247202, -0.00164273,  0.255101  ],\n        [ 0.35739524,  0.20960899, -0.06526827, -0.36284015,  0.18445513,\n          0.38349047, -0.43174123, -0.29894565, -0.32434546,  0.36105705],\n        [-0.15269373,  0.46229574,  0.47521722,  0.04014784, -0.05319852,\n          0.15719125,  0.41836337,  0.32229099, -0.26381233,  0.39936012],\n        [-0.07454401, -0.35955736,  0.08081616,  0.55131404, -0.17266948,\n         -0.16811356, -0.21209908, -0.13008467, -0.63156729,  0.18926456],\n        [ 0.26713997, -0.31242462, -0.3967106 ,  0.07728211, -0.44868863,\n          0.38398114,  0.37685407,  0.05456813,  0.16098362,  0.3847075 ],\n        [ 0.62820972, -0.09735749,  0.24018199,  0.25300585,  0.45124139,\n         -0.31286441,  0.26619255, -0.15459186,  0.19506077,  0.19966463],\n        [-0.2457486 , -0.16504756,  0.01056571,  0.17028777,  0.25935106,\n          0.04270833, -0.4657507 ,  0.42731914,  0.4083086 ,  0.49792481],\n        [-0.1500517 ,  0.57225795, -0.22412925,  0.35731274, -0.23224968,\n         -0.20487873, -0.08615023, -0.48086404,  0.29030997,  0.23076361]]))"
     },
     "execution_count": 19,
     "metadata": {},
     "output_type": "execute_result"
    }
   ],
   "source": [
    "eigenvalues_qr, eigenvectors_qr = QR_method(A)\n",
    "eigenvalues_qr, eigenvectors_qr"
   ]
  },
  {
   "cell_type": "markdown",
   "id": "9c3597d6",
   "metadata": {
    "id": "ny2m2x3TRDbS"
   },
   "source": [
    "## 3.3 Evaluating the results\n",
    "\n",
    "Compare the results with the built-in function and comment on the outcomes"
   ]
  },
  {
   "cell_type": "code",
   "execution_count": 22,
   "outputs": [
    {
     "data": {
      "text/plain": "(array([10.,  1.,  9.,  8.,  2.,  7.,  6.,  5.,  3.,  4.]),\n array([[ 0.38827504, -0.3049996 ,  0.10812079, -0.46393328, -0.22668337,\n         -0.26824613, -0.42298503,  0.29098992,  0.12516819,  0.35594055],\n        [ 0.32989625, -0.1648641 ,  0.37221769,  0.52265921,  0.24490317,\n         -0.22670563,  0.09148574, -0.13850316,  0.55413498,  0.07923566],\n        [-0.18678413, -0.255101  ,  0.03196293,  0.09776713, -0.00164273,\n         -0.46128275,  0.46893745,  0.6379503 , -0.16247202, -0.15293978],\n        [-0.35739524, -0.36105705, -0.20960899, -0.06526827, -0.32434546,\n         -0.36284015, -0.18445513, -0.38349047,  0.29894565, -0.43174123],\n        [ 0.15269373, -0.39936012, -0.46229574,  0.47521722, -0.26381233,\n          0.04014784,  0.05319852, -0.15719125, -0.32229099,  0.41836337],\n        [ 0.07454401, -0.18926456,  0.35955736,  0.08081616, -0.63156729,\n          0.55131404,  0.17266948,  0.16811356,  0.13008467, -0.21209908],\n        [-0.26713997, -0.3847075 ,  0.31242462, -0.3967106 ,  0.16098362,\n          0.07728211,  0.44868863, -0.38398114, -0.05456813,  0.37685407],\n        [-0.62820972, -0.19966463,  0.09735749,  0.24018199,  0.19506077,\n          0.25300585, -0.45124139,  0.31286441,  0.15459186,  0.26619255],\n        [ 0.2457486 , -0.49792481,  0.16504756,  0.01056571,  0.4083086 ,\n          0.17028777, -0.25935106, -0.04270833, -0.42731914, -0.4657507 ],\n        [ 0.1500517 , -0.23076361, -0.57225795, -0.22412925,  0.29030997,\n          0.35731274,  0.23224968,  0.20487873,  0.48086404, -0.08615023]]))"
     },
     "execution_count": 22,
     "metadata": {},
     "output_type": "execute_result"
    }
   ],
   "source": [
    "eigenvalues_bi, eigenvectors_bi = np.linalg.eig(A)\n",
    "eigenvalues_bi, eigenvectors_bi"
   ],
   "metadata": {
    "collapsed": false,
    "ExecuteTime": {
     "end_time": "2024-01-14T16:15:09.455345Z",
     "start_time": "2024-01-14T16:15:09.448860Z"
    }
   }
  },
  {
   "cell_type": "code",
   "execution_count": 26,
   "outputs": [
    {
     "data": {
      "text/plain": "(4.329578362386122, 4.690415759841724, 4.458390713590455)"
     },
     "execution_count": 26,
     "metadata": {},
     "output_type": "execute_result"
    }
   ],
   "source": [
    "np.linalg.norm(eigenvectors_bi - eigenvectors_jac), np.linalg.norm(eigenvectors_bi - eigenvectors_qr), np.linalg.norm(eigenvectors_qr - eigenvectors_jac)"
   ],
   "metadata": {
    "collapsed": false,
    "ExecuteTime": {
     "end_time": "2024-01-14T16:16:26.114463Z",
     "start_time": "2024-01-14T16:16:26.109281Z"
    }
   }
  },
  {
   "cell_type": "markdown",
   "id": "23967585",
   "metadata": {
    "id": "yC6idKQtRUkT"
   },
   "source": [
    "---\n",
    "Above is the comparison with Frobenius norm differences:\n",
    "1. Build In Numpy (Braman-Byers-Mathias Hessenberg QR) vs Jacobi Method\n",
    "2. Build In Numpy (Braman-Byers-Mathias Hessenberg QR) vs QR Method\n",
    "3. QR Method vs Jacobi.\n",
    "\n",
    "Worth noting, that Numpy uses Braman-Byers-Mathias Hessenberg QR algorithm as a method to find eigenvalues and eigenvectors.\n",
    "We can see that the jacobi method comes the closest to the numpy solution, however it does not imply that it gives the best (true) values everywhere.\n",
    "\n",
    "The QR algorithm seems to be most of from its modification (Braman-Byers-Mathias Hessenberg) in build in numpy, most probably, due to severe accent in numpy\n",
    "and this algorithm on additional iterations for more accuracy. However, this algorithm is well known for its longevity, when the eigenvalues are too close, which\n",
    "increases number of iterations and slow-downs the process.\n",
    "\n",
    "---\n"
   ]
  },
  {
   "cell_type": "markdown",
   "id": "3051751d",
   "metadata": {
    "id": "N0TqUlcDRcT3"
   },
   "source": [
    "# 4. Conclusions **(0.5 pts)**\n",
    "Summarize in several sentences what you achieved in this task, what were the main obstacles and how you overcome them. You can also add some suggestions how this task can be improved in the future"
   ]
  },
  {
   "cell_type": "markdown",
   "id": "9d30a4cc",
   "metadata": {
    "id": "-Gy_I3DTRsnu"
   },
   "source": [
    "---\n",
    "Jacobi:\n",
    "In general, the Jacobi algorithm does not produce an exactly diagonal matrix in any\n",
    "finite number of iterations, so the formulation of the algorithm that we gave above would\n",
    "result in an infinite loop. However, it will very quickly “almost diagonalize” any matrix.\n",
    "\n",
    "QR:\n",
    "The QR algorithm's advantages include versatility, applicability to both real and complex eigenvalues, and effectiveness for symmetric matrices.\n",
    "However, drawbacks include potentially slow convergence, particularly for matrices with clustered eigenvalues, and computational expense due to repeated orthogonal factorizations in each iteration.\n",
    "Overall, the QR algorithm serves as a reliable numerical approach for eigenvalue computations, especially in situations where analytical solutions are challenging or unattainable. (Which is why probably the NumPy uses its variant)\n",
    "\n",
    "Modifications:\n",
    "However, the QR algorithm lacks numerical stability and efficiency which is dealt with using its modification (Braman-Byers-Mathias Hessenberg QR)\n",
    "\n",
    "Summary:\n",
    "Also in this lab, we have proven a few of underlying theorems, powering this numerical methods, which helped me to understand the relationships and how they work under the hood.\n",
    "For example, the task when we had to find the theta value which would make B matrix diagonal, which requires understanding of different relationships (s, t and c) variables.\n",
    "\n",
    "---"
   ]
  }
 ],
 "metadata": {
  "colab": {
   "provenance": []
  },
  "kernelspec": {
   "display_name": "Python 3 (ipykernel)",
   "language": "python",
   "name": "python3"
  },
  "language_info": {
   "codemirror_mode": {
    "name": "ipython",
    "version": 3
   },
   "file_extension": ".py",
   "mimetype": "text/x-python",
   "name": "python",
   "nbconvert_exporter": "python",
   "pygments_lexer": "ipython3",
   "version": "3.11.4"
  },
  "toc": {
   "base_numbering": 1,
   "nav_menu": {},
   "number_sections": true,
   "sideBar": true,
   "skip_h1_title": false,
   "title_cell": "Table of Contents",
   "title_sidebar": "Contents",
   "toc_cell": false,
   "toc_position": {},
   "toc_section_display": true,
   "toc_window_display": false
  }
 },
 "nbformat": 4,
 "nbformat_minor": 5
}
